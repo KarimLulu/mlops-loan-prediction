{
 "cells": [
  {
   "cell_type": "code",
   "execution_count": 1,
   "metadata": {},
   "outputs": [],
   "source": [
    "import lightgbm as lgb\n",
    "import pandas as pd\n",
    "import numpy as np\n",
    "import category_encoders as ce"
   ]
  },
  {
   "cell_type": "code",
   "execution_count": 2,
   "metadata": {},
   "outputs": [],
   "source": [
    "from sklearn.model_selection import train_test_split"
   ]
  },
  {
   "cell_type": "code",
   "execution_count": 3,
   "metadata": {},
   "outputs": [
    {
     "name": "stdout",
     "output_type": "stream",
     "text": [
      "/Users/karimlulu/Repos/mlops-loan-prediction\n"
     ]
    }
   ],
   "source": [
    "%cd .."
   ]
  },
  {
   "cell_type": "code",
   "execution_count": 4,
   "metadata": {},
   "outputs": [],
   "source": [
    "from settings import DATA_PATH, LGBM_PARAMS"
   ]
  },
  {
   "cell_type": "code",
   "execution_count": 5,
   "metadata": {},
   "outputs": [],
   "source": [
    "df = pd.read_csv(DATA_PATH)\n",
    "df = df.fillna(value=np.nan)"
   ]
  },
  {
   "cell_type": "code",
   "execution_count": 6,
   "metadata": {},
   "outputs": [],
   "source": [
    "def build_mapping(df):\n",
    "    col_to_categories = {}\n",
    "    for col in df:\n",
    "        dtype = df[col].dtype\n",
    "        if dtype == \"object\" or dtype.name == \"category\":\n",
    "            df[col] = df[col].astype(\"category\")\n",
    "            col_to_categories[col] = list(df[col].cat.categories)\n",
    "    return col_to_categories"
   ]
  },
  {
   "cell_type": "code",
   "execution_count": 7,
   "metadata": {},
   "outputs": [],
   "source": [
    "mapp = build_mapping(df)"
   ]
  },
  {
   "cell_type": "code",
   "execution_count": 8,
   "metadata": {},
   "outputs": [],
   "source": [
    "X = df.loc[:, [col for col in df.columns if col not in [\"is_bad\", \"Id\"]]]\n",
    "y = df[\"is_bad\"]\n",
    "X_train, X_test, y_train, y_test = train_test_split(X, y,\n",
    "                                                    test_size=0.25,\n",
    "                                                    random_state=41,\n",
    "                                                    stratify=y)\n",
    "for key, cats in mapp.items():\n",
    "    X_test.loc[:, key] = X_test.loc[:, key].cat.set_categories(cats)"
   ]
  },
  {
   "cell_type": "code",
   "execution_count": 9,
   "metadata": {},
   "outputs": [],
   "source": [
    "encoder = ce.CatBoostEncoder(cols=list(mapp.keys()))\n",
    "X_tr_cat = encoder.fit_transform(X_train, y_train)\n",
    "X_test_cat = encoder.transform(X_test)"
   ]
  },
  {
   "cell_type": "code",
   "execution_count": 10,
   "metadata": {},
   "outputs": [],
   "source": [
    "lgb_train = lgb.Dataset(X_train, y_train.values,\n",
    "                        categorical_feature=list(mapp.keys()),\n",
    "                        free_raw_data=False,\n",
    "                        feature_name=list(X_train.columns))\n",
    "lgb_eval = lgb.Dataset(X_test, y_test.values, \n",
    "                       reference=lgb_train,\n",
    "                       categorical_feature=list(mapp.keys()),\n",
    "                       free_raw_data=False,\n",
    "                       feature_name=list(X_train.columns))"
   ]
  },
  {
   "cell_type": "code",
   "execution_count": 11,
   "metadata": {},
   "outputs": [
    {
     "name": "stdout",
     "output_type": "stream",
     "text": [
      "[LightGBM] [Warning] seed is set=30, random_state=30 will be ignored. Current value: seed=30\n"
     ]
    },
    {
     "name": "stderr",
     "output_type": "stream",
     "text": [
      "/Users/karimlulu/miniconda3/envs/py38/lib/python3.8/site-packages/lightgbm/engine.py:177: UserWarning: Found `n_estimators` in params. Will use it instead of argument\n",
      "  _log_warning(f\"Found `{alias}` in params. Will use it instead of argument\")\n",
      "/Users/karimlulu/miniconda3/envs/py38/lib/python3.8/site-packages/lightgbm/engine.py:181: UserWarning: 'early_stopping_rounds' argument is deprecated and will be removed in a future release of LightGBM. Pass 'early_stopping()' callback via 'callbacks' argument instead.\n",
      "  _log_warning(\"'early_stopping_rounds' argument is deprecated and will be removed in a future release of LightGBM. \"\n",
      "/Users/karimlulu/miniconda3/envs/py38/lib/python3.8/site-packages/lightgbm/engine.py:239: UserWarning: 'verbose_eval' argument is deprecated and will be removed in a future release of LightGBM. Pass 'log_evaluation()' callback via 'callbacks' argument instead.\n",
      "  _log_warning(\"'verbose_eval' argument is deprecated and will be removed in a future release of LightGBM. \"\n",
      "/Users/karimlulu/miniconda3/envs/py38/lib/python3.8/site-packages/lightgbm/engine.py:260: UserWarning: 'evals_result' argument is deprecated and will be removed in a future release of LightGBM. Pass 'record_evaluation()' callback via 'callbacks' argument instead.\n",
      "  _log_warning(\"'evals_result' argument is deprecated and will be removed in a future release of LightGBM. \"\n",
      "/Users/karimlulu/miniconda3/envs/py38/lib/python3.8/site-packages/lightgbm/basic.py:1780: UserWarning: Overriding the parameters from Reference Dataset.\n",
      "  _log_warning('Overriding the parameters from Reference Dataset.')\n",
      "/Users/karimlulu/miniconda3/envs/py38/lib/python3.8/site-packages/lightgbm/basic.py:1513: UserWarning: categorical_column in param dict is overridden.\n",
      "  _log_warning(f'{cat_alias} in param dict is overridden.')\n"
     ]
    }
   ],
   "source": [
    "eval_log = {}\n",
    "bst = lgb.train(LGBM_PARAMS,\n",
    "              lgb_train,\n",
    "              num_boost_round=100,\n",
    "              verbose_eval=False,\n",
    "              valid_sets=[lgb_eval, lgb_train],\n",
    "              early_stopping_rounds=50,\n",
    "              valid_names=[\"Test\", \"Train\"],\n",
    "                evals_result=eval_log,\n",
    "              feature_name=list(X_train.columns),\n",
    "               categorical_feature=list(mapp.keys()))"
   ]
  },
  {
   "cell_type": "code",
   "execution_count": 12,
   "metadata": {},
   "outputs": [
    {
     "data": {
      "text/plain": [
       "OrderedDict([('binary_logloss',\n",
       "              [0.3797423850567266,\n",
       "               0.3737186001373367,\n",
       "               0.3680094742482637,\n",
       "               0.3641717705032791,\n",
       "               0.36131734632268775,\n",
       "               0.36088655423104593,\n",
       "               0.35843479190459027,\n",
       "               0.3566024665593509,\n",
       "               0.3553800906561788,\n",
       "               0.35437452925854435,\n",
       "               0.3531011993772654,\n",
       "               0.3518615928374165,\n",
       "               0.3502467982414227,\n",
       "               0.3488851177767234,\n",
       "               0.3480724351445956,\n",
       "               0.3479498098543793,\n",
       "               0.3475660287625827,\n",
       "               0.34787949002185903,\n",
       "               0.3479711742063747,\n",
       "               0.34812054736366205,\n",
       "               0.34882306098951715,\n",
       "               0.3492285057347967,\n",
       "               0.3494223206459863,\n",
       "               0.34937329262755795,\n",
       "               0.3493852179583599,\n",
       "               0.3493037122388549,\n",
       "               0.3495713054433767,\n",
       "               0.34962498430051314,\n",
       "               0.3491578082425644,\n",
       "               0.3490254037893252,\n",
       "               0.34932000678303693,\n",
       "               0.3490118959902862,\n",
       "               0.34906221868154247,\n",
       "               0.34933281272155586,\n",
       "               0.349868067067168,\n",
       "               0.35021241821363736,\n",
       "               0.35124021975588215,\n",
       "               0.3511842264805169,\n",
       "               0.35209303947054393,\n",
       "               0.35304967213026467,\n",
       "               0.35287433618491976,\n",
       "               0.3530834703438125,\n",
       "               0.3530791002939126,\n",
       "               0.3536976652972697,\n",
       "               0.3543618767785606,\n",
       "               0.35448201148691066,\n",
       "               0.3549164833246209,\n",
       "               0.35455426503765675,\n",
       "               0.35462001524732184,\n",
       "               0.3549800913819522,\n",
       "               0.35478784201329483,\n",
       "               0.35480269414401666,\n",
       "               0.3551572250911474,\n",
       "               0.3554491296440852,\n",
       "               0.35572371588088436,\n",
       "               0.356499790808211,\n",
       "               0.35661727363375023,\n",
       "               0.3571044957202299,\n",
       "               0.35792891525835546,\n",
       "               0.35792215634858165,\n",
       "               0.3581828062337089,\n",
       "               0.35878213612362203,\n",
       "               0.358934232827916,\n",
       "               0.359016102437097,\n",
       "               0.359497966598397,\n",
       "               0.35932616305772747,\n",
       "               0.3595687148874911])])"
      ]
     },
     "execution_count": 12,
     "metadata": {},
     "output_type": "execute_result"
    }
   ],
   "source": [
    "eval_log[\"Test\"]"
   ]
  }
 ],
 "metadata": {
  "kernelspec": {
   "display_name": "Python 3 (ipykernel)",
   "language": "python",
   "name": "python3"
  },
  "language_info": {
   "codemirror_mode": {
    "name": "ipython",
    "version": 3
   },
   "file_extension": ".py",
   "mimetype": "text/x-python",
   "name": "python",
   "nbconvert_exporter": "python",
   "pygments_lexer": "ipython3",
   "version": "3.8.13"
  }
 },
 "nbformat": 4,
 "nbformat_minor": 4
}
